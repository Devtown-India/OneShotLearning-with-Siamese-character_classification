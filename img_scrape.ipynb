{
 "cells": [
  {
   "cell_type": "code",
   "execution_count": 1,
   "metadata": {},
   "outputs": [],
   "source": [
    "import os\n",
    "import time\n",
    "import requests\n",
    "from selenium import webdriver"
   ]
  },
  {
   "cell_type": "code",
   "execution_count": 2,
   "metadata": {},
   "outputs": [],
   "source": [
    "# How to execute this code\n",
    "# Step 1 : pip install selenium. pillow, requests\n",
    "# Step 2 : make sure you have chrome installed on your machine\n",
    "# Step 3 : Check your chrome version ( go to three dot then help then about google chrome )\n",
    "# Step 4 : Download the same chrome driver from here  \" https://chromedriver.storage.googleapis.com/index.html \"\n",
    "# Step 5 : put it inside the same folder of this code"
   ]
  },
  {
   "cell_type": "code",
   "execution_count": 3,
   "metadata": {},
   "outputs": [],
   "source": [
    "def fetch_image_urls(query: str, max_links_to_fetch: int, wd: webdriver, sleep_between_interactions: int = 1):\n",
    "    def scroll_to_end(wd):\n",
    "        wd.execute_script(\"window.scrollTo(0, document.body.scrollHeight);\")\n",
    "        time.sleep(sleep_between_interactions)\n",
    "\n",
    "        # build the google query\n",
    "\n",
    "    search_url = \"https://www.google.com/search?safe=off&site=&tbm=isch&source=hp&q={q}&oq={q}&gs_l=img\"\n",
    "\n",
    "    # load the page\n",
    "    wd.get(search_url.format(q=query))\n",
    "\n",
    "    image_urls = set()\n",
    "    image_count = 0\n",
    "    results_start = 0\n",
    "    while image_count < max_links_to_fetch:\n",
    "        scroll_to_end(wd)\n",
    "\n",
    "        # get all image thumbnail results\n",
    "        thumbnail_results = wd.find_elements_by_css_selector(\"img.Q4LuWd\")\n",
    "        number_results = len(thumbnail_results)\n",
    "\n",
    "        print(f\"Found: {number_results} search results. Extracting links from {results_start}:{number_results}\")\n",
    "\n",
    "        for img in thumbnail_results[results_start:number_results]:\n",
    "            # try to click every thumbnail such that we can get the real image behind it\n",
    "            try:\n",
    "                img.click()\n",
    "                time.sleep(sleep_between_interactions)\n",
    "            except Exception:\n",
    "                continue\n",
    "\n",
    "            # extract image urls\n",
    "            actual_images = wd.find_elements_by_css_selector('img.n3VNCb')\n",
    "            for actual_image in actual_images:\n",
    "                if actual_image.get_attribute('src') and 'http' in actual_image.get_attribute('src'):\n",
    "                    image_urls.add(actual_image.get_attribute('src'))\n",
    "\n",
    "            image_count = len(image_urls)\n",
    "\n",
    "            if len(image_urls) >= max_links_to_fetch:\n",
    "                print(f\"Found: {len(image_urls)} image links, done!\")\n",
    "                break\n",
    "        else:\n",
    "            print(\"Found:\", len(image_urls), \"image links, looking for more ...\")\n",
    "            time.sleep(30)\n",
    "            return\n",
    "            load_more_button = wd.find_element_by_css_selector(\".mye4qd\")\n",
    "            if load_more_button:\n",
    "                wd.execute_script(\"document.querySelector('.mye4qd').click();\")\n",
    "\n",
    "        # move the result startpoint further down\n",
    "        results_start = len(thumbnail_results)\n",
    "\n",
    "    return image_urls"
   ]
  },
  {
   "cell_type": "code",
   "execution_count": 20,
   "metadata": {},
   "outputs": [],
   "source": [
    "def persist_image(folder_path:str,url:str, counter):\n",
    "    try:\n",
    "        image_content = requests.get(url).content\n",
    "\n",
    "    except Exception as e:\n",
    "        print(f\"ERROR - Could not download {url} - {e}\")\n",
    "\n",
    "    try:\n",
    "        f = open(os.path.join(folder_path, 'd'  + str(counter) + \".jpg\"), 'wb')\n",
    "        f.write(image_content)\n",
    "        f.close()\n",
    "        print(f\"SUCCESS - saved {url} - as {folder_path}\")\n",
    "    except Exception as e:\n",
    "        print(f\"ERROR - Could not save {url} - {e}\")"
   ]
  },
  {
   "cell_type": "code",
   "execution_count": 21,
   "metadata": {},
   "outputs": [],
   "source": [
    "def search_and_download(search_term: str, driver_path: str, target_path='./images', number_images=50):\n",
    "    target_folder = os.path.join(target_path, '_'.join(search_term.lower().split(' '))) # make the folder name inside images with the search string\n",
    "\n",
    "    if not os.path.exists(target_folder):\n",
    "        os.makedirs(target_folder) # make directory using the target path if it doesn't exist already\n",
    "\n",
    "    with webdriver.Chrome(executable_path=driver_path) as wd:\n",
    "        res = fetch_image_urls(search_term, number_images, wd=wd, sleep_between_interactions=0.5)\n",
    "\n",
    "    counter = 0\n",
    "    for elem in res:\n",
    "        persist_image(target_folder, elem, counter)\n",
    "        counter += 1"
   ]
  },
  {
   "cell_type": "code",
   "execution_count": 22,
   "metadata": {},
   "outputs": [
    {
     "ename": "SyntaxError",
     "evalue": "invalid syntax (<ipython-input-22-44f94db7e7b8>, line 3)",
     "output_type": "error",
     "traceback": [
      "\u001b[1;36m  File \u001b[1;32m\"<ipython-input-22-44f94db7e7b8>\"\u001b[1;36m, line \u001b[1;32m3\u001b[0m\n\u001b[1;33m    serch_and_load(search_term:str,driver_path:str,target_path='./images')\u001b[0m\n\u001b[1;37m                              ^\u001b[0m\n\u001b[1;31mSyntaxError\u001b[0m\u001b[1;31m:\u001b[0m invalid syntax\n"
     ]
    }
   ],
   "source": [
    "driverpath=\"./chromedriver\"\n",
    "search_term=\"hawkey marvel\"\n",
    "serch_and_load(search_term:str,driver_path:str,target_path='./images')"
   ]
  },
  {
   "cell_type": "code",
   "execution_count": 24,
   "metadata": {},
   "outputs": [
    {
     "name": "stdout",
     "output_type": "stream",
     "text": [
      "Found: 100 search results. Extracting links from 0:100\n",
      "Found: 51 image links, done!\n",
      "SUCCESS - saved https://encrypted-tbn0.gstatic.com/images?q=tbn%3AANd9GcSYpByJ8vyzIrkf_dsNtmTV6CI0AZTOcTpx_A&usqp=CAU - as ./images\\the_thing_marvel\n",
      "SUCCESS - saved https://encrypted-tbn0.gstatic.com/images?q=tbn%3AANd9GcSF5uCOhZ_dIBBNNcdLdK9bu-yE_89dhc5xMQ&usqp=CAU - as ./images\\the_thing_marvel\n",
      "SUCCESS - saved https://encrypted-tbn0.gstatic.com/images?q=tbn%3AANd9GcRyWoMDL63MfKTUvFTDfQYTr0oaFypA9K7mLw&usqp=CAU - as ./images\\the_thing_marvel\n",
      "SUCCESS - saved https://encrypted-tbn0.gstatic.com/images?q=tbn%3AANd9GcScOEn6awMpkvRbK6JnpXuewLNoaE1zxaNc1g&usqp=CAU - as ./images\\the_thing_marvel\n",
      "SUCCESS - saved https://encrypted-tbn0.gstatic.com/images?q=tbn%3AANd9GcQYwuQNNZgBmTvFkBi7kwvHwkyPKYjM6iJiTw&usqp=CAU - as ./images\\the_thing_marvel\n",
      "SUCCESS - saved https://encrypted-tbn0.gstatic.com/images?q=tbn%3AANd9GcQtIflE55-IOF3sQkMMWBLFW8ewfqo35HyRPg&usqp=CAU - as ./images\\the_thing_marvel\n",
      "SUCCESS - saved https://encrypted-tbn0.gstatic.com/images?q=tbn%3AANd9GcTECAfeYQi80OkzkWMsCDlwuVK05fRGtki-Qw&usqp=CAU - as ./images\\the_thing_marvel\n",
      "SUCCESS - saved https://encrypted-tbn0.gstatic.com/images?q=tbn%3AANd9GcTo58VCtrQg-I-BO-QNfvCeYHKKStVBkv4K5w&usqp=CAU - as ./images\\the_thing_marvel\n",
      "SUCCESS - saved https://encrypted-tbn0.gstatic.com/images?q=tbn%3AANd9GcT6XbRpREWUiLlSQubA_EXX1tukcd2DuSKdhg&usqp=CAU - as ./images\\the_thing_marvel\n",
      "SUCCESS - saved https://encrypted-tbn0.gstatic.com/images?q=tbn%3AANd9GcQSTIFBSh65U5IaqV324v40LWiP1syxf3ysgg&usqp=CAU - as ./images\\the_thing_marvel\n",
      "SUCCESS - saved https://encrypted-tbn0.gstatic.com/images?q=tbn%3AANd9GcTWGLuqJy4uD-pLXJanh9yYr6hSc5C-wreL9g&usqp=CAU - as ./images\\the_thing_marvel\n",
      "SUCCESS - saved https://encrypted-tbn0.gstatic.com/images?q=tbn%3AANd9GcRvoj-tpQ1ucXTAuYsAjDASs0FjZzLndqQ-kg&usqp=CAU - as ./images\\the_thing_marvel\n",
      "SUCCESS - saved https://encrypted-tbn0.gstatic.com/images?q=tbn%3AANd9GcRhU6vN4QFeY3eDubHu_O5RSlxwRT8GOYVGvg&usqp=CAU - as ./images\\the_thing_marvel\n",
      "SUCCESS - saved https://encrypted-tbn0.gstatic.com/images?q=tbn%3AANd9GcRlaWXPsuQGXQ4SQCDvLRjt1_KoPAMjuGH_Gw&usqp=CAU - as ./images\\the_thing_marvel\n",
      "SUCCESS - saved https://i.ytimg.com/vi/8tEfxpav-wM/hqdefault.jpg - as ./images\\the_thing_marvel\n",
      "SUCCESS - saved https://encrypted-tbn0.gstatic.com/images?q=tbn%3AANd9GcRJpiKfNVLyTncAU7cg9fRo34M83Ok2CXNLSA&usqp=CAU - as ./images\\the_thing_marvel\n",
      "SUCCESS - saved https://encrypted-tbn0.gstatic.com/images?q=tbn%3AANd9GcSx55-BAnlbR48_7J66qsP7c1bW-V5ovlBJEw&usqp=CAU - as ./images\\the_thing_marvel\n",
      "SUCCESS - saved https://encrypted-tbn0.gstatic.com/images?q=tbn%3AANd9GcTEX0WM7DOy08XE2x4TQO8UVWESyOLfdsFWQQ&usqp=CAU - as ./images\\the_thing_marvel\n",
      "SUCCESS - saved https://encrypted-tbn0.gstatic.com/images?q=tbn%3AANd9GcQuaF9WdfLAWOM3bIPes6nbN4sfbWRnnPB7Cg&usqp=CAU - as ./images\\the_thing_marvel\n",
      "SUCCESS - saved https://static1.squarespace.com/static/5a91d3c65417fcf4daefefb8/5a91f71524a69489a7e9ac5f/5ad402e58a922d44a47d82f2/1523843945285/IMG_0038.JPG?format=1500w - as ./images\\the_thing_marvel\n",
      "SUCCESS - saved https://encrypted-tbn0.gstatic.com/images?q=tbn%3AANd9GcSSX6X6LcwOv7jP2eyv4iqfez3ZCQbLwZXlKg&usqp=CAU - as ./images\\the_thing_marvel\n",
      "SUCCESS - saved https://encrypted-tbn0.gstatic.com/images?q=tbn%3AANd9GcRFIHqkPs7x5utVCZzB8r-efq9vbLOrR5Nz0g&usqp=CAU - as ./images\\the_thing_marvel\n",
      "SUCCESS - saved https://encrypted-tbn0.gstatic.com/images?q=tbn%3AANd9GcTOxW1FAlvcxJzHOvDWE1Pa0DhEufpRttMzOg&usqp=CAU - as ./images\\the_thing_marvel\n",
      "SUCCESS - saved https://encrypted-tbn0.gstatic.com/images?q=tbn%3AANd9GcS9n9fbum9YB6M_HommG99kDWqBJ81UMwBa0w&usqp=CAU - as ./images\\the_thing_marvel\n",
      "SUCCESS - saved https://encrypted-tbn0.gstatic.com/images?q=tbn%3AANd9GcRbr6-HJ5ycV8b9y-dHcRnj93LWpLEIVOQ-KQ&usqp=CAU - as ./images\\the_thing_marvel\n",
      "SUCCESS - saved https://encrypted-tbn0.gstatic.com/images?q=tbn%3AANd9GcRVDQisX8RdhxJACKkl-dpN-b9Q02O37xHWvA&usqp=CAU - as ./images\\the_thing_marvel\n",
      "SUCCESS - saved https://encrypted-tbn0.gstatic.com/images?q=tbn%3AANd9GcQLTLyWgIolHkzCL9RZQj5ItHKMX27R_ngz8w&usqp=CAU - as ./images\\the_thing_marvel\n",
      "SUCCESS - saved https://encrypted-tbn0.gstatic.com/images?q=tbn%3AANd9GcT3LLh1VtSQnONLNWxAausT1lWNqBjFQSS75Q&usqp=CAU - as ./images\\the_thing_marvel\n",
      "SUCCESS - saved https://encrypted-tbn0.gstatic.com/images?q=tbn%3AANd9GcTAtVYJQtfjrG6QDb8OSK4YO9EookzwWhrjCQ&usqp=CAU - as ./images\\the_thing_marvel\n",
      "SUCCESS - saved https://encrypted-tbn0.gstatic.com/images?q=tbn%3AANd9GcSoLHPmrOA9dQ_dpIXMQPPt_sZYPq6uiSd6cQ&usqp=CAU - as ./images\\the_thing_marvel\n",
      "SUCCESS - saved https://encrypted-tbn0.gstatic.com/images?q=tbn%3AANd9GcQlcrWUp90XWoBsJdIdxTQy5c5qMLeFEwhzHA&usqp=CAU - as ./images\\the_thing_marvel\n",
      "SUCCESS - saved https://encrypted-tbn0.gstatic.com/images?q=tbn%3AANd9GcQiIcB7kBHo994gVWKcDhg3_KAgfmsu4vKoNQ&usqp=CAU - as ./images\\the_thing_marvel\n",
      "SUCCESS - saved https://encrypted-tbn0.gstatic.com/images?q=tbn%3AANd9GcTuLDoud6C__p0jJVR8tR-Sbf3963yqQvUAew&usqp=CAU - as ./images\\the_thing_marvel\n",
      "SUCCESS - saved https://images-na.ssl-images-amazon.com/images/I/51zHWnZzkgL.jpg - as ./images\\the_thing_marvel\n",
      "SUCCESS - saved https://encrypted-tbn0.gstatic.com/images?q=tbn%3AANd9GcRu8XLED0v3-bnb0e8zAkZVxVXvpMovPabqkg&usqp=CAU - as ./images\\the_thing_marvel\n",
      "SUCCESS - saved https://encrypted-tbn0.gstatic.com/images?q=tbn%3AANd9GcSG9STTmPC2dQlj1Zf3VSAIJ0v_ji1UxjgdXQ&usqp=CAU - as ./images\\the_thing_marvel\n",
      "SUCCESS - saved https://encrypted-tbn0.gstatic.com/images?q=tbn%3AANd9GcSXQXMfFMi_vBGt130mzYxsM74nbBvcBwIrMA&usqp=CAU - as ./images\\the_thing_marvel\n",
      "SUCCESS - saved https://encrypted-tbn0.gstatic.com/images?q=tbn%3AANd9GcSARjd1h7OyzwfwpSvgpRXLBis10pHs5hM_iw&usqp=CAU - as ./images\\the_thing_marvel\n",
      "SUCCESS - saved https://encrypted-tbn0.gstatic.com/images?q=tbn%3AANd9GcSPLpH2tZxQ2fFdwA0cNjQZ5uA9BNkLWYwQfA&usqp=CAU - as ./images\\the_thing_marvel\n",
      "SUCCESS - saved https://www.writeups.org/wp-content/uploads/Thing-Ultimate-Marvel-Comics-Fantastic-Four.jpg - as ./images\\the_thing_marvel\n",
      "SUCCESS - saved https://encrypted-tbn0.gstatic.com/images?q=tbn%3AANd9GcTqDyKU1F2ZG0S-7ReUaJQqyUvfKFKd7J61Jg&usqp=CAU - as ./images\\the_thing_marvel\n",
      "SUCCESS - saved https://encrypted-tbn0.gstatic.com/images?q=tbn%3AANd9GcR78z6AqmQxX-t7ukSAUzQfba0ARc33ycvE5g&usqp=CAU - as ./images\\the_thing_marvel\n",
      "SUCCESS - saved https://cdn.shopify.com/s/files/1/0169/6995/7440/products/E81165L00_5010993655489_main_19_Online_300DPI_1024x1024.jpg?v=1571946647 - as ./images\\the_thing_marvel\n",
      "SUCCESS - saved https://i.pinimg.com/originals/c9/25/79/c92579c46d5d8b587611e10208bdabcb.jpg - as ./images\\the_thing_marvel\n",
      "SUCCESS - saved https://encrypted-tbn0.gstatic.com/images?q=tbn%3AANd9GcSwDEEnF4X_S3wyxyxyZ_VjmhuDONyUns3iSg&usqp=CAU - as ./images\\the_thing_marvel\n",
      "SUCCESS - saved https://encrypted-tbn0.gstatic.com/images?q=tbn%3AANd9GcQy5az1DIRPzkut-geu42AWaw1q9Yg8nWMHoA&usqp=CAU - as ./images\\the_thing_marvel\n",
      "SUCCESS - saved https://encrypted-tbn0.gstatic.com/images?q=tbn%3AANd9GcTMLg8bzBXav3Ag5QgkNMMZ4MXXNelpUuIV1Q&usqp=CAU - as ./images\\the_thing_marvel\n",
      "SUCCESS - saved https://encrypted-tbn0.gstatic.com/images?q=tbn%3AANd9GcRUDo3tXY4q-3Vmw1ofefBz6-x72bKVhdr03g&usqp=CAU - as ./images\\the_thing_marvel\n",
      "SUCCESS - saved https://encrypted-tbn0.gstatic.com/images?q=tbn%3AANd9GcQEuQFZhSyRtdzuyyPf5203byP98YdoL0YTWQ&usqp=CAU - as ./images\\the_thing_marvel\n",
      "SUCCESS - saved https://encrypted-tbn0.gstatic.com/images?q=tbn%3AANd9GcSjsQe17zf1YTyApg5QsRhv_zZFzkfXmLfJTw&usqp=CAU - as ./images\\the_thing_marvel\n",
      "SUCCESS - saved https://encrypted-tbn0.gstatic.com/images?q=tbn%3AANd9GcRgKJWoXakxzKEgSZ85P512z9Mnw0RGr117Hw&usqp=CAU - as ./images\\the_thing_marvel\n"
     ]
    }
   ],
   "source": [
    "DRIVER_PATH = './chromedriver'\n",
    "search_term = 'the thing marvel'\n",
    "# num of images you can pass it from here  by default it's 10 if you are not passing\n",
    "# number_images = 10\n",
    "search_and_download(search_term=search_term, driver_path=DRIVER_PATH) # method to download images"
   ]
  },
  {
   "cell_type": "code",
   "execution_count": null,
   "metadata": {},
   "outputs": [],
   "source": []
  },
  {
   "cell_type": "code",
   "execution_count": null,
   "metadata": {},
   "outputs": [],
   "source": []
  },
  {
   "cell_type": "code",
   "execution_count": null,
   "metadata": {},
   "outputs": [],
   "source": []
  }
 ],
 "metadata": {
  "kernelspec": {
   "display_name": "Python 3",
   "language": "python",
   "name": "python3"
  },
  "language_info": {
   "codemirror_mode": {
    "name": "ipython",
    "version": 3
   },
   "file_extension": ".py",
   "mimetype": "text/x-python",
   "name": "python",
   "nbconvert_exporter": "python",
   "pygments_lexer": "ipython3",
   "version": "3.7.4"
  }
 },
 "nbformat": 4,
 "nbformat_minor": 2
}
