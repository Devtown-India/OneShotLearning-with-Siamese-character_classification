{
 "cells": [
  {
   "cell_type": "code",
   "execution_count": 35,
   "metadata": {},
   "outputs": [],
   "source": [
    "from keras.preprocessing.image import ImageDataGenerator,array_to_img,img_to_array,load_img\n",
    "\n",
    "datagen=ImageDataGenerator(rotation_range=40,\n",
    "                          width_shift_range=0.2,\n",
    "                          height_shift_range=0.2,\n",
    "                          shear_range=0.2,\n",
    "                          zoom_range=0.2,\n",
    "                           horizontal_flip=True,\n",
    "                           fill_mode='nearest'\n",
    "                        )\n",
    "\n",
    "img=load_img('C:/Users/SMART/Desktop/scrpeer/images/spiderman_face/ab5.jpg')\n",
    "x=img_to_array(img)\n",
    "x=x.reshape((1,)+ x.shape)\n",
    "\n",
    "\n",
    "i=0\n",
    "for batch in datagen.flow(x,batch_size=1,save_to_dir='F:/internship proj/one_shot_simence/superhero_background/spiderman',save_prefix='spm',save_format='jpg'):\n",
    "    \n",
    "    i+=1\n",
    "    if i>10:\n",
    "        \n",
    "        break\n",
    "        \n",
    "\n",
    "\n"
   ]
  },
  {
   "cell_type": "code",
   "execution_count": 38,
   "metadata": {},
   "outputs": [],
   "source": [
    "import os\n",
    "from PIL import Image\n",
    "\n",
    "f = r'F:/internship proj/one_shot_simence/superhero_background/batman/a0'      #Enter the location of your Image Folder\n",
    "    \n",
    "new_d = 105\n",
    "\n",
    "for file in os.listdir(f):\n",
    "    f_img = f+'/'+file\n",
    "    try:\n",
    "        img = Image.open(f_img)\n",
    "        img = img.resize((new_d, new_d))\n",
    "        img.save(f_img)\n",
    "    except IOError:\n",
    "        pass\n"
   ]
  },
  {
   "cell_type": "code",
   "execution_count": null,
   "metadata": {},
   "outputs": [],
   "source": []
  }
 ],
 "metadata": {
  "kernelspec": {
   "display_name": "Python 3",
   "language": "python",
   "name": "python3"
  },
  "language_info": {
   "codemirror_mode": {
    "name": "ipython",
    "version": 3
   },
   "file_extension": ".py",
   "mimetype": "text/x-python",
   "name": "python",
   "nbconvert_exporter": "python",
   "pygments_lexer": "ipython3",
   "version": "3.7.4"
  }
 },
 "nbformat": 4,
 "nbformat_minor": 2
}
